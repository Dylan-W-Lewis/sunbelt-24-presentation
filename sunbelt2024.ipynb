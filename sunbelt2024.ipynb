{
  "cells": [
    {
      "cell_type": "raw",
      "metadata": {},
      "source": [
        "---\n",
        "title: \"Peer effects on health-related behaviours of adolescents in Scotland: a cross-sectional study\"\n",
        "subtitle: \"Sunbelt Conference, Edinburgh, 2024\"\n",
        "author: \"Dylan Lewis, Srebrenka Letina, Babak Mahdavi Ardestani, Emily Long, Mark McCann\"\n",
        "institute: \"Social & Public Health Sciences Unit, University of Glasgow\"\n",
        "format: \n",
        "  revealjs:\n",
        "    logo: logos/MRC_CSO_SPHSU_Glasgow_RGB.png\n",
        "editor: visual\n",
        "---"
      ],
      "id": "957bcfb1"
    },
    {
      "cell_type": "markdown",
      "metadata": {},
      "source": [
        "```{css, echo = false}\n",
        ".title {\n",
        "  font-size: 50px;\n",
        "}\n",
        "```\n",
        "\n",
        "\n",
        "\n",
        "## Motivation\n",
        "\n",
        "Why did we do our **study**?\n",
        "\n",
        "-   Content authored with markdown\n",
        "-   Output from executable code\n",
        "\n",
        "## \n",
        "\n",
        "::: columns\n",
        "::: column\n",
        "### Sample\n",
        "\n",
        "-   a\n",
        "-   b\n",
        "-   c\n",
        ":::\n",
        "\n",
        "::: column\n",
        "### Networks\n",
        "\n",
        "-   a\n",
        "-   b\n",
        "-   c\n",
        ":::\n",
        ":::"
      ],
      "id": "1f351f95"
    }
  ],
  "metadata": {
    "kernelspec": {
      "display_name": "Python 3",
      "language": "python",
      "name": "python3"
    }
  },
  "nbformat": 4,
  "nbformat_minor": 5
}